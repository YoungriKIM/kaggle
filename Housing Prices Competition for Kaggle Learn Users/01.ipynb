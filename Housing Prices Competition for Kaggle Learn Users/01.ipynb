{
 "cells": [
  {
   "cell_type": "code",
   "execution_count": 1,
   "metadata": {},
   "outputs": [],
   "source": [
    "# https://www.kaggle.com/c/home-data-for-ml-course/overview\n",
    "# Goal: SalePrice\n",
    "# Metric: Root-Mean-Squared-Error (RMSE)\n",
    "# Submission file format: [Id, SalePrice] csv"
   ]
  },
  {
   "cell_type": "code",
   "execution_count": null,
   "metadata": {},
   "outputs": [],
   "source": [
    "\n",
    "train_path = 'C:/kaggle_data/Housing Prices Competition for Kaggle Learn Users/train.csv'\n",
    "test_path = 'C:/kaggle_data/Housing Prices Competition for Kaggle Learn Users/test.csv'"
   ]
  }
 ],
 "metadata": {
  "kernelspec": {
   "display_name": "base",
   "language": "python",
   "name": "python3"
  },
  "language_info": {
   "codemirror_mode": {
    "name": "ipython",
    "version": 3
   },
   "file_extension": ".py",
   "mimetype": "text/x-python",
   "name": "python",
   "nbconvert_exporter": "python",
   "pygments_lexer": "ipython3",
   "version": "3.11.7"
  }
 },
 "nbformat": 4,
 "nbformat_minor": 2
}
